{
 "cells": [
  {
   "cell_type": "markdown",
   "metadata": {},
   "source": [
    "Week 7 - An exploration of Agencies from FBI crime data"
   ]
  },
  {
   "cell_type": "code",
   "execution_count": null,
   "metadata": {},
   "outputs": [],
   "source": [
    "library(pacman)\n",
    "remotes::install_github(\"qfes/rdeck\")\n",
    "p_load(tidytuesdayR,\n",
    "        tibble,\n",
    "        dplyr,\n",
    "        ggplot2, \n",
    "        rayshader, \n",
    "        rayrender, \n",
    "        rgl,\n",
    "        tidyverse,\n",
    "        terra,\n",
    "        giscoR,\n",
    "        tigris,\n",
    "        sf,\n",
    "        rdeck)\n",
    "\n",
    "        library(sf)\n",
    "library(arrow)\n",
    "\n",
    "install_arrow()\n",
    "\n",
    "\n",
    "data <- tidytuesdayR::tt_load(2025, week = 7)\n",
    "\n",
    "agencies <- tibble(data$agencies)\n",
    "\n",
    "rm(data)"
   ]
  },
  {
   "cell_type": "markdown",
   "metadata": {},
   "source": [
    "- NIBR Adoption timeline, percentage by states\n",
    "- Number of agencies per county, state\n",
    "- Animation of NIBR adpotion by agencies by a selcted state. \n",
    "- Distribution of agencies in a state? how close they are? avg. closest distance to next agency by state?\n",
    "- Most restistive states for NIBR"
   ]
  },
  {
   "cell_type": "code",
   "execution_count": null,
   "metadata": {},
   "outputs": [],
   "source": [
    "agencies_count <- agencies |> \n",
    "    filter(agency_type == 'City') |> \n",
    "    group_by(state) |> \n",
    "    count(name = 'agencies_count') \n",
    "\n",
    "\n",
    "# Get US states shp files or borders \n",
    "us_states <- tigris::states(cb = TRUE, year = 2023)\n",
    "\n",
    "\n",
    "# Create base raster -  US states\n",
    "us_states_raster <- terra::rast(us_states) # Understand what is happening here!\n",
    "                                    # Converts sf object to terra or SpatRaster I think\n",
    "\n",
    "agencies_stat <- c(agencies_count$agencies_count)\n",
    "# Create raster from stats of FBI agencies\n",
    "terra::init(us_states_raster, fun = function(x) agencies_stat)\n",
    "terra::rast(agencies_count$agencies_count)\n",
    "\n",
    "plot(sf::st_geometry(us_states))"
   ]
  },
  {
   "cell_type": "code",
   "execution_count": null,
   "metadata": {},
   "outputs": [],
   "source": [
    "\n",
    "\n",
    "# Load FBI data\n",
    "cali_agencies <- st_as_sf(\n",
    "  agencies |> na.omit() |> \n",
    "    filter(county == 'California'),\n",
    "  coords = c(\"longitude\", \"latitude\"),\n",
    "  crs = 4326\n",
    ")\n"
   ]
  },
  {
   "cell_type": "code",
   "execution_count": null,
   "metadata": {},
   "outputs": [],
   "source": [
    "# Load Overture Maps data\n",
    "buildings <- open_dataset('s3://overturemaps-us-west-2/release/2024-05-16-beta.0/theme=buildings?region=us-west-2')\n",
    "#overture_sf <- st_as_sf(overture_data, crs = 4326)\n",
    "\n",
    "cali_bbox <- counties(state = \"CA\", cb = TRUE, resolution = \"20m\") |> \n",
    "  #filter(NAME == \"San Francisco\") |> \n",
    "  st_bbox() |> \n",
    "  as.vector()\n",
    "\n",
    "cali_buildings <- buildings |>\n",
    "  filter(bbox$xmin > cali_bbox[1],\n",
    "         bbox$ymin > cali_bbox[2],\n",
    "         bbox$xmax < cali_bbox[3],\n",
    "         bbox$ymax < cali_bbox[4]) |>\n",
    "  select(id, geometry, height) |> \n",
    "  collect() |>\n",
    "  st_as_sf(crs = 4326) |> \n",
    "  mutate(height = ifelse(is.na(height), 8, height))\n"
   ]
  },
  {
   "cell_type": "code",
   "execution_count": null,
   "metadata": {},
   "outputs": [],
   "source": [
    "# Find nearest building to each agency\n",
    "cali_agencies <- cali_agencies |> rename(geometry_fbi = geometry)\n",
    "\n",
    "nearest_buildings <- st_join(\n",
    "  fbi_data,\n",
    "  sf_buildings |> select(geometry, everything()),\n",
    "  join = st_nearest_feature,\n",
    "  left = TRUE\n",
    ")\n",
    "\n",
    "\n",
    "buildings_joined_subset <- st_intersection(nearest_buildings, st_as_sfc(st_bbox(sf_buildings)))\n",
    "\n",
    "nearest_buildings_sf <- st_as_sf(nearest_buildings)\n",
    "\n",
    "nearest_buildings_sf$geometry <- st_sfc(nearest_buildings_sf$geometry)\n",
    "\n",
    "# Convert to GEOMETRY\n",
    "nearest_buildings_sf$geometry <- st_cast(nearest_buildings_sf$geometry, \"GEOMETRY\")\n",
    "\n",
    "\n",
    "st_geometry_type(nearest_buildings_sf$geometry)"
   ]
  },
  {
   "cell_type": "code",
   "execution_count": null,
   "metadata": {},
   "outputs": [],
   "source": [
    "options(rdeck.mapbox_access_token = 'pk.eyJ1Ijoiam9uaS1tYXBzIiwiYSI6ImNtN2F5MTYzejA5bGEybHBuYm8zcHR0dnYifQ.zgcmfyIEveMXTgUihiaSIA')\n",
    "\n",
    "rdeck(map_style = mapbox_light(),\n",
    "      initial_view_state = view_state(\n",
    "        center = c(-122.4657, 37.7548),\n",
    "        zoom = 11.3,\n",
    "        bearing = -60,\n",
    "        pitch = 76\n",
    "      )) |> \n",
    "    add_polygon_layer(\n",
    "        data = buildings_joined_subset,\n",
    "        name = 'San Francisco',\n",
    "        get_polygon = geometry, \n",
    "        get_elevation = height,\n",
    "        get_fill_color = scale_color_linear(\n",
    "            col = height, \n",
    "            palette = viridisLite::inferno(100, direction = -1)\n",
    "        ),\n",
    "        extruded = TRUE,\n",
    "        opacity = 0.5)\n"
   ]
  }
 ],
 "metadata": {
  "language_info": {
   "name": "python"
  }
 },
 "nbformat": 4,
 "nbformat_minor": 2
}
